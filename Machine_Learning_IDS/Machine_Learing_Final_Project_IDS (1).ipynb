{
 "cells": [
  {
   "cell_type": "code",
   "execution_count": 1,
   "id": "4dcc2089",
   "metadata": {},
   "outputs": [
    {
     "name": "stderr",
     "output_type": "stream",
     "text": [
      "C:\\Users\\carte\\anaconda3\\lib\\site-packages\\scipy\\__init__.py:155: UserWarning: A NumPy version >=1.18.5 and <1.25.0 is required for this version of SciPy (detected version 1.26.4\n",
      "  warnings.warn(f\"A NumPy version >={np_minversion} and <{np_maxversion}\"\n"
     ]
    },
    {
     "name": "stdout",
     "output_type": "stream",
     "text": [
      "NaN values in each column:\n",
      " duration                       0\n",
      "protocol_type                  0\n",
      "service                        0\n",
      "flag                           0\n",
      "src_bytes                      0\n",
      "dst_bytes                      0\n",
      "land                           0\n",
      "wrong_fragment                 0\n",
      "urgent                         0\n",
      "hot                            0\n",
      "num_failed_logins              0\n",
      "logged_in                      0\n",
      "num_compromised                0\n",
      "root_shell                     0\n",
      "su_attempted                   0\n",
      "num_root                       0\n",
      "num_file_creations             0\n",
      "num_shells                     0\n",
      "num_access_files               0\n",
      "num_outbound_cmds              0\n",
      "is_host_login                  0\n",
      "is_guest_login                 0\n",
      "count                          0\n",
      "srv_count                      0\n",
      "serror_rate                    0\n",
      "srv_serror_rate                0\n",
      "rerror_rate                    0\n",
      "srv_rerror_rate                0\n",
      "same_srv_rate                  0\n",
      "diff_srv_rate                  0\n",
      "srv_diff_host_rate             0\n",
      "dst_host_count                 0\n",
      "dst_host_srv_count             0\n",
      "dst_host_same_srv_rate         0\n",
      "dst_host_diff_srv_rate         0\n",
      "dst_host_same_src_port_rate    0\n",
      "dst_host_srv_diff_host_rate    0\n",
      "dst_host_serror_rate           0\n",
      "dst_host_srv_serror_rate       0\n",
      "dst_host_rerror_rate           0\n",
      "dst_host_srv_rerror_rate       0\n",
      "class                          0\n",
      "dtype: int64\n"
     ]
    }
   ],
   "source": [
    "import pandas as pd\n",
    "from sklearn.model_selection import train_test_split\n",
    "from sklearn.preprocessing import OneHotEncoder, StandardScaler\n",
    "\n",
    "# Load data\n",
    "X = pd.read_csv('Train_data.csv')\n",
    "y = pd.read_csv('Test_data.csv')\n",
    "\n",
    "# Check for NaN values and drop or fill\n",
    "print(\"NaN values in each column:\\n\", X.isnull().sum())\n",
    "\n",
    "# Assuming 'class' is your label\n",
    "X_labels = X['class'].dropna()\n",
    "X_features = X.drop('class', axis=1)\n",
    "\n",
    "# Handle categorical variables\n",
    "categorical_features = X_features.select_dtypes(include=['object']).columns.tolist()\n",
    "X_features = pd.get_dummies(X_features, columns=categorical_features)\n",
    "\n",
    "# Scale features\n",
    "scaler = StandardScaler()\n",
    "X_features_scaled = scaler.fit_transform(X_features)\n",
    "\n",
    "# Split data\n",
    "X_train, X_val, y_train, y_val = train_test_split(X_features_scaled, X_labels, test_size=0.2, random_state=42)"
   ]
  },
  {
   "cell_type": "code",
   "execution_count": 2,
   "id": "66abdc9e",
   "metadata": {
    "scrolled": true
   },
   "outputs": [
    {
     "name": "stdout",
     "output_type": "stream",
     "text": [
      "Total NaN labels before removal: 0\n",
      "Unique label values after NaN removal: ['normal' 'anomaly']\n"
     ]
    }
   ],
   "source": [
    "# Remove NaN values from labels\n",
    "print(\"Total NaN labels before removal:\", X_labels.isna().sum())\n",
    "X_combined = pd.concat([X_features, X_labels], axis=1)\n",
    "X_combined.dropna(subset=['class'], inplace=True)  \n",
    "\n",
    "X_labels = X_combined['class']\n",
    "X_features = X_combined.drop('class', axis=1)\n",
    "\n",
    "# Now re-check the unique values in the labels\n",
    "print(\"Unique label values after NaN removal:\", X_labels.unique())"
   ]
  },
  {
   "cell_type": "code",
   "execution_count": 3,
   "id": "e96fba50",
   "metadata": {},
   "outputs": [
    {
     "name": "stdout",
     "output_type": "stream",
     "text": [
      "duration          int64\n",
      "src_bytes         int64\n",
      "dst_bytes         int64\n",
      "land              int64\n",
      "wrong_fragment    int64\n",
      "                  ...  \n",
      "flag_S1           uint8\n",
      "flag_S2           uint8\n",
      "flag_S3           uint8\n",
      "flag_SF           uint8\n",
      "flag_SH           uint8\n",
      "Length: 118, dtype: object\n",
      "All data is numeric.\n"
     ]
    }
   ],
   "source": [
    "# Check data types\n",
    "print(X_features.dtypes)\n",
    "\n",
    "# Check for any object types that shouldn't be there\n",
    "if X_features.select_dtypes(include=['object']).columns.any():\n",
    "    print(\"Categorical data still present:\", X_features.select_dtypes(include=['object']).columns)\n",
    "else:\n",
    "    print(\"All data is numeric.\")"
   ]
  },
  {
   "cell_type": "code",
   "execution_count": 4,
   "id": "c87ebba3",
   "metadata": {},
   "outputs": [],
   "source": [
    "from sklearn.preprocessing import StandardScaler\n",
    "\n",
    "scaler = StandardScaler()\n",
    "X_features = pd.DataFrame(scaler.fit_transform(X_features), columns=X_features.columns)  "
   ]
  },
  {
   "cell_type": "code",
   "execution_count": 5,
   "id": "7e869be7",
   "metadata": {},
   "outputs": [
    {
     "name": "stdout",
     "output_type": "stream",
     "text": [
      "Labels after conversion: [0 1]\n"
     ]
    }
   ],
   "source": [
    "# Define a mapping for labels\n",
    "label_mapping = {'normal': 0, 'anomaly': 1}\n",
    "\n",
    "# Apply the mapping to convert labels to integers\n",
    "X_labels = X_labels.map(label_mapping)\n",
    "\n",
    "# Confirm conversion\n",
    "print(\"Labels after conversion:\", X_labels.unique())"
   ]
  },
  {
   "cell_type": "code",
   "execution_count": 6,
   "id": "a5c99774",
   "metadata": {},
   "outputs": [],
   "source": [
    "from sklearn.model_selection import train_test_split\n",
    "\n",
    "X_train, X_val, y_train, y_val = train_test_split(X_features, X_labels, test_size=0.2, random_state=42)"
   ]
  },
  {
   "cell_type": "code",
   "execution_count": 7,
   "id": "34110841",
   "metadata": {},
   "outputs": [
    {
     "name": "stderr",
     "output_type": "stream",
     "text": [
      "C:\\Users\\carte\\anaconda3\\lib\\site-packages\\keras\\src\\layers\\core\\dense.py:88: UserWarning: Do not pass an `input_shape`/`input_dim` argument to a layer. When using Sequential models, prefer using an `Input(shape)` object as the first layer in the model instead.\n",
      "  super().__init__(activity_regularizer=activity_regularizer, **kwargs)\n"
     ]
    }
   ],
   "source": [
    "# Model Definition\n",
    "from tensorflow.keras.models import Sequential\n",
    "from tensorflow.keras.layers import Dense\n",
    "\n",
    "def create_model(input_shape):\n",
    "    model = Sequential([\n",
    "        Dense(64, activation='relu', input_shape=(input_shape,)),\n",
    "        Dense(32, activation='relu'),\n",
    "        Dense(16, activation='relu'),\n",
    "        Dense(1, activation='sigmoid')\n",
    "    ])\n",
    "    model.compile(optimizer='adam', loss='binary_crossentropy', metrics=['accuracy'])\n",
    "    return model\n",
    "\n",
    "model = create_model(X_train.shape[1])"
   ]
  },
  {
   "cell_type": "code",
   "execution_count": 8,
   "id": "2475685e",
   "metadata": {
    "scrolled": true
   },
   "outputs": [
    {
     "name": "stdout",
     "output_type": "stream",
     "text": [
      "Epoch 1/50\n",
      "\u001b[1m630/630\u001b[0m \u001b[32m━━━━━━━━━━━━━━━━━━━━\u001b[0m\u001b[37m\u001b[0m \u001b[1m6s\u001b[0m 5ms/step - accuracy: 0.9224 - loss: 0.2097 - val_accuracy: 0.9875 - val_loss: 0.0412\n",
      "Epoch 2/50\n",
      "\u001b[1m630/630\u001b[0m \u001b[32m━━━━━━━━━━━━━━━━━━━━\u001b[0m\u001b[37m\u001b[0m \u001b[1m4s\u001b[0m 5ms/step - accuracy: 0.9872 - loss: 0.0377 - val_accuracy: 0.9909 - val_loss: 0.0312\n",
      "Epoch 3/50\n",
      "\u001b[1m630/630\u001b[0m \u001b[32m━━━━━━━━━━━━━━━━━━━━\u001b[0m\u001b[37m\u001b[0m \u001b[1m3s\u001b[0m 5ms/step - accuracy: 0.9919 - loss: 0.0243 - val_accuracy: 0.9917 - val_loss: 0.0275\n",
      "Epoch 4/50\n",
      "\u001b[1m630/630\u001b[0m \u001b[32m━━━━━━━━━━━━━━━━━━━━\u001b[0m\u001b[37m\u001b[0m \u001b[1m3s\u001b[0m 5ms/step - accuracy: 0.9917 - loss: 0.0281 - val_accuracy: 0.9903 - val_loss: 0.0289\n",
      "Epoch 5/50\n",
      "\u001b[1m630/630\u001b[0m \u001b[32m━━━━━━━━━━━━━━━━━━━━\u001b[0m\u001b[37m\u001b[0m \u001b[1m3s\u001b[0m 5ms/step - accuracy: 0.9928 - loss: 0.0209 - val_accuracy: 0.9911 - val_loss: 0.0269\n",
      "Epoch 6/50\n",
      "\u001b[1m630/630\u001b[0m \u001b[32m━━━━━━━━━━━━━━━━━━━━\u001b[0m\u001b[37m\u001b[0m \u001b[1m3s\u001b[0m 5ms/step - accuracy: 0.9924 - loss: 0.0211 - val_accuracy: 0.9909 - val_loss: 0.0270\n",
      "Epoch 7/50\n",
      "\u001b[1m630/630\u001b[0m \u001b[32m━━━━━━━━━━━━━━━━━━━━\u001b[0m\u001b[37m\u001b[0m \u001b[1m3s\u001b[0m 5ms/step - accuracy: 0.9934 - loss: 0.0184 - val_accuracy: 0.9913 - val_loss: 0.0245\n",
      "Epoch 8/50\n",
      "\u001b[1m630/630\u001b[0m \u001b[32m━━━━━━━━━━━━━━━━━━━━\u001b[0m\u001b[37m\u001b[0m \u001b[1m3s\u001b[0m 5ms/step - accuracy: 0.9930 - loss: 0.0204 - val_accuracy: 0.9903 - val_loss: 0.0277\n",
      "Epoch 9/50\n",
      "\u001b[1m630/630\u001b[0m \u001b[32m━━━━━━━━━━━━━━━━━━━━\u001b[0m\u001b[37m\u001b[0m \u001b[1m3s\u001b[0m 5ms/step - accuracy: 0.9946 - loss: 0.0134 - val_accuracy: 0.9909 - val_loss: 0.0240\n",
      "Epoch 10/50\n",
      "\u001b[1m630/630\u001b[0m \u001b[32m━━━━━━━━━━━━━━━━━━━━\u001b[0m\u001b[37m\u001b[0m \u001b[1m3s\u001b[0m 5ms/step - accuracy: 0.9948 - loss: 0.0146 - val_accuracy: 0.9913 - val_loss: 0.0259\n",
      "Epoch 11/50\n",
      "\u001b[1m630/630\u001b[0m \u001b[32m━━━━━━━━━━━━━━━━━━━━\u001b[0m\u001b[37m\u001b[0m \u001b[1m3s\u001b[0m 5ms/step - accuracy: 0.9937 - loss: 0.0152 - val_accuracy: 0.9911 - val_loss: 0.0267\n",
      "Epoch 12/50\n",
      "\u001b[1m630/630\u001b[0m \u001b[32m━━━━━━━━━━━━━━━━━━━━\u001b[0m\u001b[37m\u001b[0m \u001b[1m3s\u001b[0m 5ms/step - accuracy: 0.9964 - loss: 0.0123 - val_accuracy: 0.9923 - val_loss: 0.0241\n",
      "Epoch 13/50\n",
      "\u001b[1m630/630\u001b[0m \u001b[32m━━━━━━━━━━━━━━━━━━━━\u001b[0m\u001b[37m\u001b[0m \u001b[1m3s\u001b[0m 5ms/step - accuracy: 0.9950 - loss: 0.0135 - val_accuracy: 0.9927 - val_loss: 0.0243\n",
      "Epoch 14/50\n",
      "\u001b[1m630/630\u001b[0m \u001b[32m━━━━━━━━━━━━━━━━━━━━\u001b[0m\u001b[37m\u001b[0m \u001b[1m3s\u001b[0m 5ms/step - accuracy: 0.9949 - loss: 0.0144 - val_accuracy: 0.9927 - val_loss: 0.0243\n",
      "Epoch 15/50\n",
      "\u001b[1m630/630\u001b[0m \u001b[32m━━━━━━━━━━━━━━━━━━━━\u001b[0m\u001b[37m\u001b[0m \u001b[1m4s\u001b[0m 5ms/step - accuracy: 0.9946 - loss: 0.0147 - val_accuracy: 0.9938 - val_loss: 0.0248\n",
      "Epoch 16/50\n",
      "\u001b[1m630/630\u001b[0m \u001b[32m━━━━━━━━━━━━━━━━━━━━\u001b[0m\u001b[37m\u001b[0m \u001b[1m3s\u001b[0m 5ms/step - accuracy: 0.9957 - loss: 0.0111 - val_accuracy: 0.9927 - val_loss: 0.0227\n",
      "Epoch 17/50\n",
      "\u001b[1m630/630\u001b[0m \u001b[32m━━━━━━━━━━━━━━━━━━━━\u001b[0m\u001b[37m\u001b[0m \u001b[1m3s\u001b[0m 5ms/step - accuracy: 0.9958 - loss: 0.0107 - val_accuracy: 0.9944 - val_loss: 0.0246\n",
      "Epoch 18/50\n",
      "\u001b[1m630/630\u001b[0m \u001b[32m━━━━━━━━━━━━━━━━━━━━\u001b[0m\u001b[37m\u001b[0m \u001b[1m3s\u001b[0m 5ms/step - accuracy: 0.9953 - loss: 0.0119 - val_accuracy: 0.9935 - val_loss: 0.0267\n",
      "Epoch 19/50\n",
      "\u001b[1m630/630\u001b[0m \u001b[32m━━━━━━━━━━━━━━━━━━━━\u001b[0m\u001b[37m\u001b[0m \u001b[1m3s\u001b[0m 5ms/step - accuracy: 0.9951 - loss: 0.0124 - val_accuracy: 0.9935 - val_loss: 0.0253\n",
      "Epoch 20/50\n",
      "\u001b[1m630/630\u001b[0m \u001b[32m━━━━━━━━━━━━━━━━━━━━\u001b[0m\u001b[37m\u001b[0m \u001b[1m2s\u001b[0m 2ms/step - accuracy: 0.9959 - loss: 0.0102 - val_accuracy: 0.9940 - val_loss: 0.0240\n",
      "Epoch 21/50\n",
      "\u001b[1m630/630\u001b[0m \u001b[32m━━━━━━━━━━━━━━━━━━━━\u001b[0m\u001b[37m\u001b[0m \u001b[1m1s\u001b[0m 2ms/step - accuracy: 0.9966 - loss: 0.0111 - val_accuracy: 0.9936 - val_loss: 0.0280\n",
      "Epoch 22/50\n",
      "\u001b[1m630/630\u001b[0m \u001b[32m━━━━━━━━━━━━━━━━━━━━\u001b[0m\u001b[37m\u001b[0m \u001b[1m1s\u001b[0m 2ms/step - accuracy: 0.9963 - loss: 0.0107 - val_accuracy: 0.9942 - val_loss: 0.0274\n",
      "Epoch 23/50\n",
      "\u001b[1m630/630\u001b[0m \u001b[32m━━━━━━━━━━━━━━━━━━━━\u001b[0m\u001b[37m\u001b[0m \u001b[1m1s\u001b[0m 2ms/step - accuracy: 0.9962 - loss: 0.0098 - val_accuracy: 0.9946 - val_loss: 0.0270\n",
      "Epoch 24/50\n",
      "\u001b[1m630/630\u001b[0m \u001b[32m━━━━━━━━━━━━━━━━━━━━\u001b[0m\u001b[37m\u001b[0m \u001b[1m1s\u001b[0m 2ms/step - accuracy: 0.9967 - loss: 0.0086 - val_accuracy: 0.9952 - val_loss: 0.0266\n",
      "Epoch 25/50\n",
      "\u001b[1m630/630\u001b[0m \u001b[32m━━━━━━━━━━━━━━━━━━━━\u001b[0m\u001b[37m\u001b[0m \u001b[1m1s\u001b[0m 2ms/step - accuracy: 0.9969 - loss: 0.0080 - val_accuracy: 0.9931 - val_loss: 0.0292\n",
      "Epoch 26/50\n",
      "\u001b[1m630/630\u001b[0m \u001b[32m━━━━━━━━━━━━━━━━━━━━\u001b[0m\u001b[37m\u001b[0m \u001b[1m1s\u001b[0m 2ms/step - accuracy: 0.9977 - loss: 0.0068 - val_accuracy: 0.9919 - val_loss: 0.0382\n",
      "Epoch 27/50\n",
      "\u001b[1m630/630\u001b[0m \u001b[32m━━━━━━━━━━━━━━━━━━━━\u001b[0m\u001b[37m\u001b[0m \u001b[1m1s\u001b[0m 2ms/step - accuracy: 0.9955 - loss: 0.0111 - val_accuracy: 0.9954 - val_loss: 0.0278\n",
      "Epoch 28/50\n",
      "\u001b[1m630/630\u001b[0m \u001b[32m━━━━━━━━━━━━━━━━━━━━\u001b[0m\u001b[37m\u001b[0m \u001b[1m1s\u001b[0m 2ms/step - accuracy: 0.9974 - loss: 0.0069 - val_accuracy: 0.9936 - val_loss: 0.0334\n",
      "Epoch 29/50\n",
      "\u001b[1m630/630\u001b[0m \u001b[32m━━━━━━━━━━━━━━━━━━━━\u001b[0m\u001b[37m\u001b[0m \u001b[1m1s\u001b[0m 2ms/step - accuracy: 0.9966 - loss: 0.0081 - val_accuracy: 0.9958 - val_loss: 0.0288\n",
      "Epoch 30/50\n",
      "\u001b[1m630/630\u001b[0m \u001b[32m━━━━━━━━━━━━━━━━━━━━\u001b[0m\u001b[37m\u001b[0m \u001b[1m1s\u001b[0m 2ms/step - accuracy: 0.9979 - loss: 0.0062 - val_accuracy: 0.9950 - val_loss: 0.0306\n",
      "Epoch 31/50\n",
      "\u001b[1m630/630\u001b[0m \u001b[32m━━━━━━━━━━━━━━━━━━━━\u001b[0m\u001b[37m\u001b[0m \u001b[1m1s\u001b[0m 2ms/step - accuracy: 0.9977 - loss: 0.0067 - val_accuracy: 0.9946 - val_loss: 0.0296\n",
      "Epoch 32/50\n",
      "\u001b[1m630/630\u001b[0m \u001b[32m━━━━━━━━━━━━━━━━━━━━\u001b[0m\u001b[37m\u001b[0m \u001b[1m1s\u001b[0m 2ms/step - accuracy: 0.9972 - loss: 0.0079 - val_accuracy: 0.9944 - val_loss: 0.0302\n",
      "Epoch 33/50\n",
      "\u001b[1m630/630\u001b[0m \u001b[32m━━━━━━━━━━━━━━━━━━━━\u001b[0m\u001b[37m\u001b[0m \u001b[1m1s\u001b[0m 2ms/step - accuracy: 0.9966 - loss: 0.0081 - val_accuracy: 0.9954 - val_loss: 0.0306\n",
      "Epoch 34/50\n",
      "\u001b[1m630/630\u001b[0m \u001b[32m━━━━━━━━━━━━━━━━━━━━\u001b[0m\u001b[37m\u001b[0m \u001b[1m1s\u001b[0m 2ms/step - accuracy: 0.9968 - loss: 0.0073 - val_accuracy: 0.9954 - val_loss: 0.0295\n",
      "Epoch 35/50\n",
      "\u001b[1m630/630\u001b[0m \u001b[32m━━━━━━━━━━━━━━━━━━━━\u001b[0m\u001b[37m\u001b[0m \u001b[1m1s\u001b[0m 2ms/step - accuracy: 0.9981 - loss: 0.0055 - val_accuracy: 0.9950 - val_loss: 0.0303\n",
      "Epoch 36/50\n",
      "\u001b[1m630/630\u001b[0m \u001b[32m━━━━━━━━━━━━━━━━━━━━\u001b[0m\u001b[37m\u001b[0m \u001b[1m1s\u001b[0m 2ms/step - accuracy: 0.9977 - loss: 0.0058 - val_accuracy: 0.9935 - val_loss: 0.0337\n",
      "Epoch 37/50\n",
      "\u001b[1m630/630\u001b[0m \u001b[32m━━━━━━━━━━━━━━━━━━━━\u001b[0m\u001b[37m\u001b[0m \u001b[1m1s\u001b[0m 2ms/step - accuracy: 0.9978 - loss: 0.0065 - val_accuracy: 0.9956 - val_loss: 0.0306\n",
      "Epoch 38/50\n",
      "\u001b[1m630/630\u001b[0m \u001b[32m━━━━━━━━━━━━━━━━━━━━\u001b[0m\u001b[37m\u001b[0m \u001b[1m1s\u001b[0m 2ms/step - accuracy: 0.9978 - loss: 0.0060 - val_accuracy: 0.9936 - val_loss: 0.0395\n",
      "Epoch 39/50\n",
      "\u001b[1m630/630\u001b[0m \u001b[32m━━━━━━━━━━━━━━━━━━━━\u001b[0m\u001b[37m\u001b[0m \u001b[1m1s\u001b[0m 2ms/step - accuracy: 0.9974 - loss: 0.0070 - val_accuracy: 0.9966 - val_loss: 0.0335\n",
      "Epoch 40/50\n",
      "\u001b[1m630/630\u001b[0m \u001b[32m━━━━━━━━━━━━━━━━━━━━\u001b[0m\u001b[37m\u001b[0m \u001b[1m1s\u001b[0m 2ms/step - accuracy: 0.9978 - loss: 0.0067 - val_accuracy: 0.9958 - val_loss: 0.0368\n",
      "Epoch 41/50\n",
      "\u001b[1m630/630\u001b[0m \u001b[32m━━━━━━━━━━━━━━━━━━━━\u001b[0m\u001b[37m\u001b[0m \u001b[1m1s\u001b[0m 2ms/step - accuracy: 0.9978 - loss: 0.0069 - val_accuracy: 0.9935 - val_loss: 0.0424\n",
      "Epoch 42/50\n",
      "\u001b[1m630/630\u001b[0m \u001b[32m━━━━━━━━━━━━━━━━━━━━\u001b[0m\u001b[37m\u001b[0m \u001b[1m1s\u001b[0m 2ms/step - accuracy: 0.9978 - loss: 0.0063 - val_accuracy: 0.9950 - val_loss: 0.0411\n",
      "Epoch 43/50\n",
      "\u001b[1m630/630\u001b[0m \u001b[32m━━━━━━━━━━━━━━━━━━━━\u001b[0m\u001b[37m\u001b[0m \u001b[1m1s\u001b[0m 2ms/step - accuracy: 0.9976 - loss: 0.0059 - val_accuracy: 0.9946 - val_loss: 0.0393\n",
      "Epoch 44/50\n",
      "\u001b[1m630/630\u001b[0m \u001b[32m━━━━━━━━━━━━━━━━━━━━\u001b[0m\u001b[37m\u001b[0m \u001b[1m1s\u001b[0m 2ms/step - accuracy: 0.9985 - loss: 0.0041 - val_accuracy: 0.9956 - val_loss: 0.0390\n",
      "Epoch 45/50\n",
      "\u001b[1m630/630\u001b[0m \u001b[32m━━━━━━━━━━━━━━━━━━━━\u001b[0m\u001b[37m\u001b[0m \u001b[1m1s\u001b[0m 2ms/step - accuracy: 0.9973 - loss: 0.0065 - val_accuracy: 0.9956 - val_loss: 0.0355\n",
      "Epoch 46/50\n",
      "\u001b[1m630/630\u001b[0m \u001b[32m━━━━━━━━━━━━━━━━━━━━\u001b[0m\u001b[37m\u001b[0m \u001b[1m1s\u001b[0m 2ms/step - accuracy: 0.9989 - loss: 0.0038 - val_accuracy: 0.9933 - val_loss: 0.0477\n",
      "Epoch 47/50\n",
      "\u001b[1m630/630\u001b[0m \u001b[32m━━━━━━━━━━━━━━━━━━━━\u001b[0m\u001b[37m\u001b[0m \u001b[1m1s\u001b[0m 2ms/step - accuracy: 0.9972 - loss: 0.0077 - val_accuracy: 0.9933 - val_loss: 0.0480\n",
      "Epoch 48/50\n",
      "\u001b[1m630/630\u001b[0m \u001b[32m━━━━━━━━━━━━━━━━━━━━\u001b[0m\u001b[37m\u001b[0m \u001b[1m1s\u001b[0m 2ms/step - accuracy: 0.9974 - loss: 0.0075 - val_accuracy: 0.9958 - val_loss: 0.0401\n",
      "Epoch 49/50\n",
      "\u001b[1m630/630\u001b[0m \u001b[32m━━━━━━━━━━━━━━━━━━━━\u001b[0m\u001b[37m\u001b[0m \u001b[1m1s\u001b[0m 2ms/step - accuracy: 0.9976 - loss: 0.0085 - val_accuracy: 0.9958 - val_loss: 0.0384\n",
      "Epoch 50/50\n",
      "\u001b[1m630/630\u001b[0m \u001b[32m━━━━━━━━━━━━━━━━━━━━\u001b[0m\u001b[37m\u001b[0m \u001b[1m1s\u001b[0m 2ms/step - accuracy: 0.9979 - loss: 0.0050 - val_accuracy: 0.9956 - val_loss: 0.0404\n"
     ]
    }
   ],
   "source": [
    "# Model Training\n",
    "history = model.fit(X_train, y_train, epochs=50, batch_size=32, validation_data=(X_val, y_val), verbose=1)"
   ]
  },
  {
   "cell_type": "code",
   "execution_count": 9,
   "id": "e4414ef9",
   "metadata": {},
   "outputs": [
    {
     "name": "stdout",
     "output_type": "stream",
     "text": [
      "Training Accuracy: 0.9976, Training Loss: 0.0065\n",
      "Validation Accuracy: 0.9956, Validation Loss: 0.0404\n"
     ]
    }
   ],
   "source": [
    "# Model Evaluation\n",
    "train_loss, train_acc = model.evaluate(X_train, y_train, verbose=0)\n",
    "val_loss, val_acc = model.evaluate(X_val, y_val, verbose=0)\n",
    "print(f\"Training Accuracy: {train_acc:.4f}, Training Loss: {train_loss:.4f}\")\n",
    "print(f\"Validation Accuracy: {val_acc:.4f}, Validation Loss: {val_loss:.4f}\")"
   ]
  }
 ],
 "metadata": {
  "kernelspec": {
   "display_name": "Python 3 (ipykernel)",
   "language": "python",
   "name": "python3"
  },
  "language_info": {
   "codemirror_mode": {
    "name": "ipython",
    "version": 3
   },
   "file_extension": ".py",
   "mimetype": "text/x-python",
   "name": "python",
   "nbconvert_exporter": "python",
   "pygments_lexer": "ipython3",
   "version": "3.9.13"
  }
 },
 "nbformat": 4,
 "nbformat_minor": 5
}
